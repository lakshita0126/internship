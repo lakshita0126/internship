{
 "cells": [
  {
   "cell_type": "code",
   "execution_count": null,
   "id": "78c4f410-2703-43ea-af99-918a4d130f7b",
   "metadata": {},
   "outputs": [],
   "source": [
    "import pandas as pd\n",
    "import numpy as np \n",
    "from sklearn.model_selection import train_test_split\n",
    "from sklearn.feature_extraction.text import TfidfVectorizer \n",
    "from sklearn.linear_model import LogisticRegression \n",
    "from sklearn.metrics import accuracy_score"
   ]
  },
  {
   "cell_type": "code",
   "execution_count": null,
   "id": "f2b413de-3fd1-4d6d-bdce-e951cce8859d",
   "metadata": {},
   "outputs": [],
   "source": [
    "fake=pd.read_csv(\"Fake.csv\")\n",
    "true=pd.read_csv(\"True.csv\")\n",
    "fake[\"label\"]=0\n",
    "true[\"label\"]=1\n",
    "min_len=min(len(fake),len(true))\n",
    "fake=fake.sample(min_len)\n",
    "true=true.sample(min_len)\n",
    "df=pd.concat([fake,true])\n",
    "df=df.dropna(subset=[\"text\"])\n",
    "df=df.sample(frac=1).reset_index(drop=True)"
   ]
  },
  {
   "cell_type": "code",
   "execution_count": null,
   "id": "ef73d1f9-a789-47dd-9383-7866a8d19016",
   "metadata": {},
   "outputs": [],
   "source": [
    "X=df[\"text\"]\n",
    "y=df[\"label\"]\n",
    "vectorizer=TfidfVectorizer(stop_words='english',max_df=0.7)\n",
    "X_vectorized=vectorizer.fit_transform(X)\n",
    "X_train,X_test,y_train,y_test=train_test_split(X_vectorized,y,test_size=0.2,random_state=42)"
   ]
  },
  {
   "cell_type": "code",
   "execution_count": null,
   "id": "40e54b81-2ccf-4035-b10c-591aeec3b76f",
   "metadata": {},
   "outputs": [
    {
     "name": "stdout",
     "output_type": "stream",
     "text": [
      "Model Accuracy: 0.0\n"
     ]
    }
   ],
   "source": [
    "model=LogisticRegression(max_iter=1000)\n",
    "model.fit(X_train,y_train)\n",
    "y_pred=model.predict(X_test)\n",
    "print(\"Model Accuracy:\",accuracy_score(y_test,y_pred))"
   ]
  },
  {
   "cell_type": "code",
   "execution_count": null,
   "id": "fc139f1f-8720-4679-b4c6-8203a0153d83",
   "metadata": {},
   "outputs": [
    {
     "name": "stdout",
     "output_type": "stream",
     "text": [
      "enter a news article to check if it's REAL or Fake :\n",
      " aliens  have landed on moon\n"
     ]
    },
    {
     "name": "stdout",
     "output_type": "stream",
     "text": [
      "! THIS NEWS IS REAL!.\n"
     ]
    }
   ],
   "source": [
    "news=input(\"enter a news article to check if it's REAL or Fake :\\n\")\n",
    "news_vect=vectorizer.transform([news])\n",
    "result=model.predict(news_vect)\n",
    "if result==1:\n",
    "    print(\"! THIS NEWS IS REAL!.\")\n",
    "else:\n",
    "    (\"!This news is FAKE!.\")"
   ]
  },
  {
   "cell_type": "code",
   "execution_count": null,
   "id": "15546e49-6c8c-4585-b684-d0d19e10a499",
   "metadata": {},
   "outputs": [],
   "source": []
  }
 ],
 "metadata": {
  "kernelspec": {
   "display_name": "anaconda-panel-2023.05-py310",
   "language": "python",
   "name": "conda-env-anaconda-panel-2023.05-py310-py"
  },
  "language_info": {
   "codemirror_mode": {
    "name": "ipython",
    "version": 3
   },
   "file_extension": ".py",
   "mimetype": "text/x-python",
   "name": "python",
   "nbconvert_exporter": "python",
   "pygments_lexer": "ipython3",
   "version": "3.11.5"
  }
 },
 "nbformat": 4,
 "nbformat_minor": 5
}
